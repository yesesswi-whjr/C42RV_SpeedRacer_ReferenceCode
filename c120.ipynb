{
  "nbformat": 4,
  "nbformat_minor": 0,
  "metadata": {
    "colab": {
      "provenance": [],
      "authorship_tag": "ABX9TyPwgwFUAX3tuDnuyyYay1FK",
      "include_colab_link": true
    },
    "kernelspec": {
      "name": "python3",
      "display_name": "Python 3"
    },
    "language_info": {
      "name": "python"
    }
  },
  "cells": [
    {
      "cell_type": "markdown",
      "metadata": {
        "id": "view-in-github",
        "colab_type": "text"
      },
      "source": [
        "<a href=\"https://colab.research.google.com/github/yesesswi-whjr/C42RV_SpeedRacer_ReferenceCode/blob/main/c120.ipynb\" target=\"_parent\"><img src=\"https://colab.research.google.com/assets/colab-badge.svg\" alt=\"Open In Colab\"/></a>"
      ]
    },
    {
      "cell_type": "code",
      "execution_count": 1,
      "metadata": {
        "id": "_L1oJggJvw4g"
      },
      "outputs": [],
      "source": [
        "from sklearn import datasets\n",
        "wine=datasets.load_wine()"
      ]
    },
    {
      "cell_type": "code",
      "source": [
        "from sklearn.model_selection import train_test_split\n",
        "\n",
        "X=wine.data\n",
        "Y=wine.target\n",
        "\n",
        "Xtrain,Xtest,Ytrain,Ytest=train_test_split(X,Y,test_size=0.3,random_state=109)\n",
        "\n",
        "from sklearn.naive_bayes import GaussianNB\n",
        "gnb= GaussianNB()\n",
        "gnb.fit(Xtrain,Ytrain)\n",
        "Ypredict=gnb.predict(Xtest)\n",
        "from sklearn import metrics\n",
        "metrics.accuracy_score(Ytest,Ypredict)"
      ],
      "metadata": {
        "colab": {
          "base_uri": "https://localhost:8080/"
        },
        "id": "fukOGfvUwN3-",
        "outputId": "d0f7e518-ce38-48a1-ff4d-dced9a2c1d66"
      },
      "execution_count": 8,
      "outputs": [
        {
          "output_type": "execute_result",
          "data": {
            "text/plain": [
              "0.9074074074074074"
            ]
          },
          "metadata": {},
          "execution_count": 8
        }
      ]
    }
  ]
}